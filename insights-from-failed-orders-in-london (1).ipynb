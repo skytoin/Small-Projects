{
 "cells": [
  {
   "cell_type": "markdown",
   "id": "55fae8fe",
   "metadata": {
    "papermill": {
     "duration": 0.008227,
     "end_time": "2023-03-05T17:55:41.148263",
     "exception": false,
     "start_time": "2023-03-05T17:55:41.140036",
     "status": "completed"
    },
    "tags": []
   },
   "source": [
    "**Gett, previously known as GetTaxi, is an Israeli-developed technology platform solely focused on \n",
    "corporate Ground Transportation Management (GTM). They have an application where clients can order taxis, \n",
    "and drivers can accept their rides (offers). At the moment, when the client clicks the Order button in \n",
    "the application, the matching system searches for the most relevant drivers and offers them the order. \n",
    "In this notebook, I investigated some matching metrics for orders that did not completed \n",
    "successfully, i.e., the customer didn't end up getting a car.**"
   ]
  },
  {
   "cell_type": "markdown",
   "id": "9b1f6852",
   "metadata": {
    "papermill": {
     "duration": 0.006946,
     "end_time": "2023-03-05T17:55:41.162423",
     "exception": false,
     "start_time": "2023-03-05T17:55:41.155477",
     "status": "completed"
    },
    "tags": []
   },
   "source": [
    "* order_datetime - time of the order\n",
    "* origin_longitude - longitude of the order\n",
    "* origin_latitude - latitude of the order\n",
    "* m_order_eta - time before order arrival\n",
    "* order_gk - order number\n",
    "* order_status_key - status, an enumeration consisting of the following mapping:\n",
    "4 - cancelled by client,\n",
    "9 - cancelled by system, i.e., a reject\n",
    "* is_driver_assigned_key - whether a driver has been assigned\n",
    "* cancellation_time_in_seconds - how many seconds passed before cancellation\n",
    "* The data_offers data set is a simple map with 2 columns:\n",
    "\n",
    "* order_gk - order number, associated with the same column from the orders data set\n",
    "* offer_id - ID of an offer"
   ]
  },
  {
   "cell_type": "code",
   "execution_count": 1,
   "id": "f6f1ce86",
   "metadata": {
    "_cell_guid": "b1076dfc-b9ad-4769-8c92-a6c4dae69d19",
    "_uuid": "8f2839f25d086af736a60e9eeb907d3b93b6e0e5",
    "execution": {
     "iopub.execute_input": "2023-03-05T17:55:41.179137Z",
     "iopub.status.busy": "2023-03-05T17:55:41.178622Z",
     "iopub.status.idle": "2023-03-05T17:55:41.199061Z",
     "shell.execute_reply": "2023-03-05T17:55:41.197974Z"
    },
    "papermill": {
     "duration": 0.032087,
     "end_time": "2023-03-05T17:55:41.201850",
     "exception": false,
     "start_time": "2023-03-05T17:55:41.169763",
     "status": "completed"
    },
    "tags": []
   },
   "outputs": [
    {
     "name": "stdout",
     "output_type": "stream",
     "text": [
      "/kaggle/input/insights/data_orders.csv\n",
      "/kaggle/input/insights/data_offers.csv\n"
     ]
    }
   ],
   "source": [
    "\n",
    "\n",
    "import numpy as np # linear algebra\n",
    "import pandas as pd # data processing, CSV file I/O (e.g. pd.read_csv)\n",
    "\n",
    "\n",
    "import os\n",
    "for dirname, _, filenames in os.walk('/kaggle/input'):\n",
    "    for filename in filenames:\n",
    "        print(os.path.join(dirname, filename))\n",
    "\n"
   ]
  },
  {
   "cell_type": "code",
   "execution_count": 2,
   "id": "7c3c0257",
   "metadata": {
    "execution": {
     "iopub.execute_input": "2023-03-05T17:55:41.219693Z",
     "iopub.status.busy": "2023-03-05T17:55:41.218652Z",
     "iopub.status.idle": "2023-03-05T17:55:53.038225Z",
     "shell.execute_reply": "2023-03-05T17:55:53.036715Z"
    },
    "papermill": {
     "duration": 11.831921,
     "end_time": "2023-03-05T17:55:53.041405",
     "exception": false,
     "start_time": "2023-03-05T17:55:41.209484",
     "status": "completed"
    },
    "tags": []
   },
   "outputs": [
    {
     "name": "stdout",
     "output_type": "stream",
     "text": [
      "Collecting branca==0.3.1\r\n",
      "  Downloading branca-0.3.1-py3-none-any.whl (25 kB)\r\n",
      "Requirement already satisfied: six in /opt/conda/lib/python3.7/site-packages (from branca==0.3.1) (1.16.0)\r\n",
      "Requirement already satisfied: jinja2 in /opt/conda/lib/python3.7/site-packages (from branca==0.3.1) (3.1.2)\r\n",
      "Requirement already satisfied: MarkupSafe>=2.0 in /opt/conda/lib/python3.7/site-packages (from jinja2->branca==0.3.1) (2.1.1)\r\n",
      "Installing collected packages: branca\r\n",
      "  Attempting uninstall: branca\r\n",
      "    Found existing installation: branca 0.6.0\r\n",
      "    Uninstalling branca-0.6.0:\r\n",
      "      Successfully uninstalled branca-0.6.0\r\n",
      "\u001b[31mERROR: pip's dependency resolver does not currently take into account all the packages that are installed. This behaviour is the source of the following dependency conflicts.\r\n",
      "ipyleaflet 0.17.2 requires branca>=0.5.0, but you have branca 0.3.1 which is incompatible.\r\n",
      "folium 0.14.0 requires branca>=0.6.0, but you have branca 0.3.1 which is incompatible.\u001b[0m\u001b[31m\r\n",
      "\u001b[0mSuccessfully installed branca-0.3.1\r\n",
      "\u001b[33mWARNING: Running pip as the 'root' user can result in broken permissions and conflicting behaviour with the system package manager. It is recommended to use a virtual environment instead: https://pip.pypa.io/warnings/venv\u001b[0m\u001b[33m\r\n",
      "\u001b[0m"
     ]
    }
   ],
   "source": [
    "import matplotlib.pyplot as plt\n",
    "import seaborn as sns \n",
    "\n",
    "import matplotlib\n",
    "import matplotlib.pyplot as plt\n",
    "\n",
    "!pip install branca==0.3.1"
   ]
  },
  {
   "cell_type": "code",
   "execution_count": 3,
   "id": "7923122f",
   "metadata": {
    "execution": {
     "iopub.execute_input": "2023-03-05T17:55:53.059471Z",
     "iopub.status.busy": "2023-03-05T17:55:53.059066Z",
     "iopub.status.idle": "2023-03-05T17:55:53.301135Z",
     "shell.execute_reply": "2023-03-05T17:55:53.299823Z"
    },
    "papermill": {
     "duration": 0.254392,
     "end_time": "2023-03-05T17:55:53.304151",
     "exception": false,
     "start_time": "2023-03-05T17:55:53.049759",
     "status": "completed"
    },
    "tags": []
   },
   "outputs": [],
   "source": [
    "datta_offers = pd.read_csv('/kaggle/input/insights/data_offers.csv')\n",
    "datta_orders = pd.read_csv('/kaggle/input/insights/data_orders.csv')\n"
   ]
  },
  {
   "cell_type": "code",
   "execution_count": 4,
   "id": "55e6ea85",
   "metadata": {
    "execution": {
     "iopub.execute_input": "2023-03-05T17:55:53.321780Z",
     "iopub.status.busy": "2023-03-05T17:55:53.321305Z",
     "iopub.status.idle": "2023-03-05T17:55:53.345866Z",
     "shell.execute_reply": "2023-03-05T17:55:53.344830Z"
    },
    "papermill": {
     "duration": 0.037814,
     "end_time": "2023-03-05T17:55:53.349952",
     "exception": false,
     "start_time": "2023-03-05T17:55:53.312138",
     "status": "completed"
    },
    "tags": []
   },
   "outputs": [
    {
     "name": "stdout",
     "output_type": "stream",
     "text": [
      "<class 'pandas.core.frame.DataFrame'>\n",
      "RangeIndex: 10716 entries, 0 to 10715\n",
      "Data columns (total 8 columns):\n",
      " #   Column                         Non-Null Count  Dtype  \n",
      "---  ------                         --------------  -----  \n",
      " 0   order_datetime                 10716 non-null  object \n",
      " 1   origin_longitude               10716 non-null  float64\n",
      " 2   origin_latitude                10716 non-null  float64\n",
      " 3   m_order_eta                    2814 non-null   float64\n",
      " 4   order_gk                       10716 non-null  int64  \n",
      " 5   order_status_key               10716 non-null  int64  \n",
      " 6   is_driver_assigned_key         10716 non-null  int64  \n",
      " 7   cancellations_time_in_seconds  7307 non-null   float64\n",
      "dtypes: float64(4), int64(3), object(1)\n",
      "memory usage: 669.9+ KB\n"
     ]
    }
   ],
   "source": [
    "datta_orders.info()"
   ]
  },
  {
   "cell_type": "code",
   "execution_count": 5,
   "id": "8bc88afe",
   "metadata": {
    "execution": {
     "iopub.execute_input": "2023-03-05T17:55:53.369336Z",
     "iopub.status.busy": "2023-03-05T17:55:53.368641Z",
     "iopub.status.idle": "2023-03-05T17:55:53.380629Z",
     "shell.execute_reply": "2023-03-05T17:55:53.379587Z"
    },
    "papermill": {
     "duration": 0.023937,
     "end_time": "2023-03-05T17:55:53.383117",
     "exception": false,
     "start_time": "2023-03-05T17:55:53.359180",
     "status": "completed"
    },
    "tags": []
   },
   "outputs": [
    {
     "name": "stdout",
     "output_type": "stream",
     "text": [
      "<class 'pandas.core.frame.DataFrame'>\n",
      "RangeIndex: 334363 entries, 0 to 334362\n",
      "Data columns (total 2 columns):\n",
      " #   Column    Non-Null Count   Dtype\n",
      "---  ------    --------------   -----\n",
      " 0   order_gk  334363 non-null  int64\n",
      " 1   offer_id  334363 non-null  int64\n",
      "dtypes: int64(2)\n",
      "memory usage: 5.1 MB\n"
     ]
    }
   ],
   "source": [
    "datta_offers.info()"
   ]
  },
  {
   "cell_type": "code",
   "execution_count": 6,
   "id": "4d0bb53c",
   "metadata": {
    "execution": {
     "iopub.execute_input": "2023-03-05T17:55:53.402552Z",
     "iopub.status.busy": "2023-03-05T17:55:53.401992Z",
     "iopub.status.idle": "2023-03-05T17:55:53.460340Z",
     "shell.execute_reply": "2023-03-05T17:55:53.459215Z"
    },
    "papermill": {
     "duration": 0.071101,
     "end_time": "2023-03-05T17:55:53.463066",
     "exception": false,
     "start_time": "2023-03-05T17:55:53.391965",
     "status": "completed"
    },
    "tags": []
   },
   "outputs": [],
   "source": [
    "# merge tables to get order ids with the rest info\n",
    "\n",
    "df = datta_orders.merge(datta_offers, how = 'left', on = 'order_gk')"
   ]
  },
  {
   "cell_type": "code",
   "execution_count": 7,
   "id": "6ff83522",
   "metadata": {
    "execution": {
     "iopub.execute_input": "2023-03-05T17:55:53.482138Z",
     "iopub.status.busy": "2023-03-05T17:55:53.481637Z",
     "iopub.status.idle": "2023-03-05T17:55:53.497951Z",
     "shell.execute_reply": "2023-03-05T17:55:53.496656Z"
    },
    "papermill": {
     "duration": 0.028712,
     "end_time": "2023-03-05T17:55:53.500490",
     "exception": false,
     "start_time": "2023-03-05T17:55:53.471778",
     "status": "completed"
    },
    "tags": []
   },
   "outputs": [
    {
     "name": "stdout",
     "output_type": "stream",
     "text": [
      "<class 'pandas.core.frame.DataFrame'>\n",
      "Int64Index: 34374 entries, 0 to 34373\n",
      "Data columns (total 9 columns):\n",
      " #   Column                         Non-Null Count  Dtype  \n",
      "---  ------                         --------------  -----  \n",
      " 0   order_datetime                 34374 non-null  object \n",
      " 1   origin_longitude               34374 non-null  float64\n",
      " 2   origin_latitude                34374 non-null  float64\n",
      " 3   m_order_eta                    8838 non-null   float64\n",
      " 4   order_gk                       34374 non-null  int64  \n",
      " 5   order_status_key               34374 non-null  int64  \n",
      " 6   is_driver_assigned_key         34374 non-null  int64  \n",
      " 7   cancellations_time_in_seconds  23397 non-null  float64\n",
      " 8   offer_id                       31268 non-null  float64\n",
      "dtypes: float64(5), int64(3), object(1)\n",
      "memory usage: 2.6+ MB\n"
     ]
    }
   ],
   "source": [
    "df.info()"
   ]
  },
  {
   "cell_type": "code",
   "execution_count": 8,
   "id": "b768d90b",
   "metadata": {
    "execution": {
     "iopub.execute_input": "2023-03-05T17:55:53.519592Z",
     "iopub.status.busy": "2023-03-05T17:55:53.518768Z",
     "iopub.status.idle": "2023-03-05T17:55:53.533812Z",
     "shell.execute_reply": "2023-03-05T17:55:53.532827Z"
    },
    "papermill": {
     "duration": 0.027284,
     "end_time": "2023-03-05T17:55:53.536679",
     "exception": false,
     "start_time": "2023-03-05T17:55:53.509395",
     "status": "completed"
    },
    "tags": []
   },
   "outputs": [],
   "source": [
    "# group table to get number of offers per order\n",
    "\n",
    "df_gr = df.groupby('order_gk', as_index=False, group_keys=True).offer_id.nunique()"
   ]
  },
  {
   "cell_type": "code",
   "execution_count": 9,
   "id": "65c91b47",
   "metadata": {
    "execution": {
     "iopub.execute_input": "2023-03-05T17:55:53.554900Z",
     "iopub.status.busy": "2023-03-05T17:55:53.554436Z",
     "iopub.status.idle": "2023-03-05T17:55:53.564663Z",
     "shell.execute_reply": "2023-03-05T17:55:53.563843Z"
    },
    "papermill": {
     "duration": 0.021537,
     "end_time": "2023-03-05T17:55:53.566607",
     "exception": false,
     "start_time": "2023-03-05T17:55:53.545070",
     "status": "completed"
    },
    "tags": []
   },
   "outputs": [],
   "source": [
    "# merge tables to get number of offers to unique order with the rest of given information\n",
    "\n",
    "data = datta_orders.merge(df_gr, how = 'left', on = 'order_gk')"
   ]
  },
  {
   "cell_type": "code",
   "execution_count": 10,
   "id": "bf50dac9",
   "metadata": {
    "execution": {
     "iopub.execute_input": "2023-03-05T17:55:53.586777Z",
     "iopub.status.busy": "2023-03-05T17:55:53.586341Z",
     "iopub.status.idle": "2023-03-05T17:55:53.614574Z",
     "shell.execute_reply": "2023-03-05T17:55:53.612798Z"
    },
    "papermill": {
     "duration": 0.04164,
     "end_time": "2023-03-05T17:55:53.616891",
     "exception": false,
     "start_time": "2023-03-05T17:55:53.575251",
     "status": "completed"
    },
    "tags": []
   },
   "outputs": [
    {
     "data": {
      "text/html": [
       "<div>\n",
       "<style scoped>\n",
       "    .dataframe tbody tr th:only-of-type {\n",
       "        vertical-align: middle;\n",
       "    }\n",
       "\n",
       "    .dataframe tbody tr th {\n",
       "        vertical-align: top;\n",
       "    }\n",
       "\n",
       "    .dataframe thead th {\n",
       "        text-align: right;\n",
       "    }\n",
       "</style>\n",
       "<table border=\"1\" class=\"dataframe\">\n",
       "  <thead>\n",
       "    <tr style=\"text-align: right;\">\n",
       "      <th></th>\n",
       "      <th>order_datetime</th>\n",
       "      <th>origin_longitude</th>\n",
       "      <th>origin_latitude</th>\n",
       "      <th>m_order_eta</th>\n",
       "      <th>order_gk</th>\n",
       "      <th>order_status_key</th>\n",
       "      <th>is_driver_assigned_key</th>\n",
       "      <th>cancellations_time_in_seconds</th>\n",
       "      <th>offer_id</th>\n",
       "    </tr>\n",
       "  </thead>\n",
       "  <tbody>\n",
       "    <tr>\n",
       "      <th>0</th>\n",
       "      <td>18:08:07</td>\n",
       "      <td>-0.978916</td>\n",
       "      <td>51.456173</td>\n",
       "      <td>60.0</td>\n",
       "      <td>3000583041974</td>\n",
       "      <td>4</td>\n",
       "      <td>1</td>\n",
       "      <td>198.0</td>\n",
       "      <td>1</td>\n",
       "    </tr>\n",
       "    <tr>\n",
       "      <th>1</th>\n",
       "      <td>20:57:32</td>\n",
       "      <td>-0.950385</td>\n",
       "      <td>51.456843</td>\n",
       "      <td>NaN</td>\n",
       "      <td>3000583116437</td>\n",
       "      <td>4</td>\n",
       "      <td>0</td>\n",
       "      <td>128.0</td>\n",
       "      <td>3</td>\n",
       "    </tr>\n",
       "    <tr>\n",
       "      <th>2</th>\n",
       "      <td>12:07:50</td>\n",
       "      <td>-0.969520</td>\n",
       "      <td>51.455544</td>\n",
       "      <td>477.0</td>\n",
       "      <td>3000582891479</td>\n",
       "      <td>4</td>\n",
       "      <td>1</td>\n",
       "      <td>46.0</td>\n",
       "      <td>6</td>\n",
       "    </tr>\n",
       "    <tr>\n",
       "      <th>3</th>\n",
       "      <td>13:50:20</td>\n",
       "      <td>-1.054671</td>\n",
       "      <td>51.460544</td>\n",
       "      <td>658.0</td>\n",
       "      <td>3000582941169</td>\n",
       "      <td>4</td>\n",
       "      <td>1</td>\n",
       "      <td>62.0</td>\n",
       "      <td>3</td>\n",
       "    </tr>\n",
       "    <tr>\n",
       "      <th>4</th>\n",
       "      <td>21:24:45</td>\n",
       "      <td>-0.967605</td>\n",
       "      <td>51.458236</td>\n",
       "      <td>NaN</td>\n",
       "      <td>3000583140877</td>\n",
       "      <td>9</td>\n",
       "      <td>0</td>\n",
       "      <td>NaN</td>\n",
       "      <td>0</td>\n",
       "    </tr>\n",
       "    <tr>\n",
       "      <th>...</th>\n",
       "      <td>...</td>\n",
       "      <td>...</td>\n",
       "      <td>...</td>\n",
       "      <td>...</td>\n",
       "      <td>...</td>\n",
       "      <td>...</td>\n",
       "      <td>...</td>\n",
       "      <td>...</td>\n",
       "      <td>...</td>\n",
       "    </tr>\n",
       "    <tr>\n",
       "      <th>10711</th>\n",
       "      <td>13:11:35</td>\n",
       "      <td>-0.975372</td>\n",
       "      <td>51.457846</td>\n",
       "      <td>NaN</td>\n",
       "      <td>3000599186906</td>\n",
       "      <td>4</td>\n",
       "      <td>0</td>\n",
       "      <td>36.0</td>\n",
       "      <td>1</td>\n",
       "    </tr>\n",
       "    <tr>\n",
       "      <th>10712</th>\n",
       "      <td>13:13:55</td>\n",
       "      <td>-0.975372</td>\n",
       "      <td>51.457846</td>\n",
       "      <td>NaN</td>\n",
       "      <td>3000599186962</td>\n",
       "      <td>4</td>\n",
       "      <td>0</td>\n",
       "      <td>4.0</td>\n",
       "      <td>0</td>\n",
       "    </tr>\n",
       "    <tr>\n",
       "      <th>10713</th>\n",
       "      <td>13:17:21</td>\n",
       "      <td>-0.972926</td>\n",
       "      <td>51.457693</td>\n",
       "      <td>60.0</td>\n",
       "      <td>3000599187034</td>\n",
       "      <td>4</td>\n",
       "      <td>1</td>\n",
       "      <td>34.0</td>\n",
       "      <td>1</td>\n",
       "    </tr>\n",
       "    <tr>\n",
       "      <th>10714</th>\n",
       "      <td>13:16:28</td>\n",
       "      <td>-0.975372</td>\n",
       "      <td>51.457846</td>\n",
       "      <td>NaN</td>\n",
       "      <td>3000599187024</td>\n",
       "      <td>4</td>\n",
       "      <td>0</td>\n",
       "      <td>6.0</td>\n",
       "      <td>0</td>\n",
       "    </tr>\n",
       "    <tr>\n",
       "      <th>10715</th>\n",
       "      <td>11:49:35</td>\n",
       "      <td>-0.974738</td>\n",
       "      <td>51.458180</td>\n",
       "      <td>177.0</td>\n",
       "      <td>3000592871241</td>\n",
       "      <td>4</td>\n",
       "      <td>1</td>\n",
       "      <td>40.0</td>\n",
       "      <td>1</td>\n",
       "    </tr>\n",
       "  </tbody>\n",
       "</table>\n",
       "<p>10716 rows × 9 columns</p>\n",
       "</div>"
      ],
      "text/plain": [
       "      order_datetime  origin_longitude  origin_latitude  m_order_eta  \\\n",
       "0           18:08:07         -0.978916        51.456173         60.0   \n",
       "1           20:57:32         -0.950385        51.456843          NaN   \n",
       "2           12:07:50         -0.969520        51.455544        477.0   \n",
       "3           13:50:20         -1.054671        51.460544        658.0   \n",
       "4           21:24:45         -0.967605        51.458236          NaN   \n",
       "...              ...               ...              ...          ...   \n",
       "10711       13:11:35         -0.975372        51.457846          NaN   \n",
       "10712       13:13:55         -0.975372        51.457846          NaN   \n",
       "10713       13:17:21         -0.972926        51.457693         60.0   \n",
       "10714       13:16:28         -0.975372        51.457846          NaN   \n",
       "10715       11:49:35         -0.974738        51.458180        177.0   \n",
       "\n",
       "            order_gk  order_status_key  is_driver_assigned_key  \\\n",
       "0      3000583041974                 4                       1   \n",
       "1      3000583116437                 4                       0   \n",
       "2      3000582891479                 4                       1   \n",
       "3      3000582941169                 4                       1   \n",
       "4      3000583140877                 9                       0   \n",
       "...              ...               ...                     ...   \n",
       "10711  3000599186906                 4                       0   \n",
       "10712  3000599186962                 4                       0   \n",
       "10713  3000599187034                 4                       1   \n",
       "10714  3000599187024                 4                       0   \n",
       "10715  3000592871241                 4                       1   \n",
       "\n",
       "       cancellations_time_in_seconds  offer_id  \n",
       "0                              198.0         1  \n",
       "1                              128.0         3  \n",
       "2                               46.0         6  \n",
       "3                               62.0         3  \n",
       "4                                NaN         0  \n",
       "...                              ...       ...  \n",
       "10711                           36.0         1  \n",
       "10712                            4.0         0  \n",
       "10713                           34.0         1  \n",
       "10714                            6.0         0  \n",
       "10715                           40.0         1  \n",
       "\n",
       "[10716 rows x 9 columns]"
      ]
     },
     "execution_count": 10,
     "metadata": {},
     "output_type": "execute_result"
    }
   ],
   "source": [
    "data"
   ]
  },
  {
   "cell_type": "code",
   "execution_count": 11,
   "id": "62f01993",
   "metadata": {
    "execution": {
     "iopub.execute_input": "2023-03-05T17:55:53.635509Z",
     "iopub.status.busy": "2023-03-05T17:55:53.635068Z",
     "iopub.status.idle": "2023-03-05T17:55:53.644684Z",
     "shell.execute_reply": "2023-03-05T17:55:53.643509Z"
    },
    "papermill": {
     "duration": 0.021957,
     "end_time": "2023-03-05T17:55:53.647283",
     "exception": false,
     "start_time": "2023-03-05T17:55:53.625326",
     "status": "completed"
    },
    "tags": []
   },
   "outputs": [
    {
     "data": {
      "text/plain": [
       "4    2811\n",
       "9       3\n",
       "Name: order_status_key, dtype: int64"
      ]
     },
     "execution_count": 11,
     "metadata": {},
     "output_type": "execute_result"
    }
   ],
   "source": [
    "data[data['is_driver_assigned_key'] == 1].order_status_key.value_counts()"
   ]
  },
  {
   "cell_type": "markdown",
   "id": "3d60b34a",
   "metadata": {
    "papermill": {
     "duration": 0.008257,
     "end_time": "2023-03-05T17:55:53.664575",
     "exception": false,
     "start_time": "2023-03-05T17:55:53.656318",
     "status": "completed"
    },
    "tags": []
   },
   "source": [
    "# EDA"
   ]
  },
  {
   "cell_type": "code",
   "execution_count": 12,
   "id": "7bb3e254",
   "metadata": {
    "execution": {
     "iopub.execute_input": "2023-03-05T17:55:53.685551Z",
     "iopub.status.busy": "2023-03-05T17:55:53.684509Z",
     "iopub.status.idle": "2023-03-05T17:55:53.689669Z",
     "shell.execute_reply": "2023-03-05T17:55:53.688906Z"
    },
    "papermill": {
     "duration": 0.017161,
     "end_time": "2023-03-05T17:55:53.691580",
     "exception": false,
     "start_time": "2023-03-05T17:55:53.674419",
     "status": "completed"
    },
    "tags": []
   },
   "outputs": [],
   "source": [
    "numeric_data = ['order_datetime', 'origin_longitude', 'origin_latitude' , \n",
    "              'm_order_eta', 'cancellations_time_in_seconds', 'offer_id']\n",
    "\n",
    "categorical_data = ['order_gk', 'order_status_key', 'is_driver_assigned_key']"
   ]
  },
  {
   "cell_type": "markdown",
   "id": "1cf9fde5",
   "metadata": {
    "execution": {
     "iopub.execute_input": "2023-03-03T23:15:08.564456Z",
     "iopub.status.busy": "2023-03-03T23:15:08.563996Z",
     "iopub.status.idle": "2023-03-03T23:15:08.573916Z",
     "shell.execute_reply": "2023-03-03T23:15:08.572385Z",
     "shell.execute_reply.started": "2023-03-03T23:15:08.564414Z"
    },
    "papermill": {
     "duration": 0.009058,
     "end_time": "2023-03-05T17:55:53.709254",
     "exception": false,
     "start_time": "2023-03-05T17:55:53.700196",
     "status": "completed"
    },
    "tags": []
   },
   "source": [
    "**distribution of orders according to reasons for failure: cancellations before and \n",
    "after driver assignment, and reasons for order rejection.**"
   ]
  },
  {
   "cell_type": "code",
   "execution_count": 13,
   "id": "90d8687b",
   "metadata": {
    "execution": {
     "iopub.execute_input": "2023-03-05T17:55:53.728445Z",
     "iopub.status.busy": "2023-03-05T17:55:53.728063Z",
     "iopub.status.idle": "2023-03-05T17:55:53.952466Z",
     "shell.execute_reply": "2023-03-05T17:55:53.951755Z"
    },
    "papermill": {
     "duration": 0.236794,
     "end_time": "2023-03-05T17:55:53.955014",
     "exception": false,
     "start_time": "2023-03-05T17:55:53.718220",
     "status": "completed"
    },
    "tags": []
   },
   "outputs": [
    {
     "data": {
      "text/plain": [
       "<AxesSubplot:>"
      ]
     },
     "execution_count": 13,
     "metadata": {},
     "output_type": "execute_result"
    },
    {
     "data": {
      "image/png": "[encoded data removed]",
      "text/plain": [
       "<Figure size 640x480 with 1 Axes>"
      ]
     },
     "metadata": {},
     "output_type": "display_data"
    }
   ],
   "source": [
    "data['is_driver_assigned_key'] = data['is_driver_assigned_key'].astype('string')\n",
    "data['order_status_key'] = data['order_status_key'].astype('string')\n",
    "\n",
    "data.is_driver_assigned_key.value_counts().plot(kind = 'bar', )"
   ]
  },
  {
   "cell_type": "code",
   "execution_count": 14,
   "id": "fae6de23",
   "metadata": {
    "execution": {
     "iopub.execute_input": "2023-03-05T17:55:53.977697Z",
     "iopub.status.busy": "2023-03-05T17:55:53.976183Z",
     "iopub.status.idle": "2023-03-05T17:55:54.178666Z",
     "shell.execute_reply": "2023-03-05T17:55:54.177530Z"
    },
    "papermill": {
     "duration": 0.216423,
     "end_time": "2023-03-05T17:55:54.181013",
     "exception": false,
     "start_time": "2023-03-05T17:55:53.964590",
     "status": "completed"
    },
    "tags": []
   },
   "outputs": [
    {
     "data": {
      "text/plain": [
       "Text(0.5, 1.0, 'Count of orders with assigned drivers and not separated by cancelation status')"
      ]
     },
     "execution_count": 14,
     "metadata": {},
     "output_type": "execute_result"
    },
    {
     "data": {
      "image/png": "[encoded data removed]",
      "text/plain": [
       "<Figure size 800x500 with 1 Axes>"
      ]
     },
     "metadata": {},
     "output_type": "display_data"
    }
   ],
   "source": [
    "plt.figure(figsize=(8,5))\n",
    "\n",
    "sns.countplot(x='is_driver_assigned_key',data=data, palette='rainbow', hue = 'order_status_key')\n",
    "\n",
    "plt.title(\"Count of orders with assigned drivers and not separated by cancelation status\")"
   ]
  },
  {
   "cell_type": "code",
   "execution_count": 15,
   "id": "61688085",
   "metadata": {
    "execution": {
     "iopub.execute_input": "2023-03-05T17:55:54.201676Z",
     "iopub.status.busy": "2023-03-05T17:55:54.201110Z",
     "iopub.status.idle": "2023-03-05T17:55:54.205186Z",
     "shell.execute_reply": "2023-03-05T17:55:54.204403Z"
    },
    "papermill": {
     "duration": 0.017637,
     "end_time": "2023-03-05T17:55:54.208038",
     "exception": false,
     "start_time": "2023-03-05T17:55:54.190401",
     "status": "completed"
    },
    "tags": []
   },
   "outputs": [],
   "source": [
    "# From the graph above we can see if driver is assigned then the cause of cancelation is almost 100% the client.\n",
    "# There are only 3 orders when driver was assigned and the system cancelled the order.\n",
    "# Most frequent case is client canceled before driver was assigned."
   ]
  },
  {
   "cell_type": "markdown",
   "id": "53225f1c",
   "metadata": {
    "papermill": {
     "duration": 0.010053,
     "end_time": "2023-03-05T17:55:54.227726",
     "exception": false,
     "start_time": "2023-03-05T17:55:54.217673",
     "status": "completed"
    },
    "tags": []
   },
   "source": [
    "**the distribution of failed orders by hours**"
   ]
  },
  {
   "cell_type": "code",
   "execution_count": 16,
   "id": "4b00369c",
   "metadata": {
    "execution": {
     "iopub.execute_input": "2023-03-05T17:55:54.250256Z",
     "iopub.status.busy": "2023-03-05T17:55:54.249593Z",
     "iopub.status.idle": "2023-03-05T17:55:54.862323Z",
     "shell.execute_reply": "2023-03-05T17:55:54.860769Z"
    },
    "papermill": {
     "duration": 0.628315,
     "end_time": "2023-03-05T17:55:54.866149",
     "exception": false,
     "start_time": "2023-03-05T17:55:54.237834",
     "status": "completed"
    },
    "tags": []
   },
   "outputs": [
    {
     "data": {
      "text/plain": [
       "<AxesSubplot:ylabel='Frequency'>"
      ]
     },
     "execution_count": 16,
     "metadata": {},
     "output_type": "execute_result"
    },
    {
     "data": {
      "image/png": "[encoded data removed]",
      "text/plain": [
       "<Figure size 640x480 with 1 Axes>"
      ]
     },
     "metadata": {},
     "output_type": "display_data"
    }
   ],
   "source": [
    "pd.to_datetime(data['order_datetime']).dt.hour.plot(kind='hist', bins=24)"
   ]
  },
  {
   "cell_type": "code",
   "execution_count": 17,
   "id": "fa528c17",
   "metadata": {
    "execution": {
     "iopub.execute_input": "2023-03-05T17:55:54.889623Z",
     "iopub.status.busy": "2023-03-05T17:55:54.888556Z",
     "iopub.status.idle": "2023-03-05T17:55:54.892896Z",
     "shell.execute_reply": "2023-03-05T17:55:54.892111Z"
    },
    "papermill": {
     "duration": 0.017704,
     "end_time": "2023-03-05T17:55:54.894881",
     "exception": false,
     "start_time": "2023-03-05T17:55:54.877177",
     "status": "completed"
    },
    "tags": []
   },
   "outputs": [],
   "source": [
    "# The graph above shows huge spike in failed orders from 8 to 9 am. It's probably because many people\n",
    "# leave for work. It's a rush hour. Then during the day number of failed orders grow slowly. It might be\n",
    "# because as the day comes to the end. Number of people that leave for home increase slowly. And during the \n",
    "# night number of available taxi driver falls."
   ]
  },
  {
   "cell_type": "markdown",
   "id": "8056d6aa",
   "metadata": {
    "papermill": {
     "duration": 0.009768,
     "end_time": "2023-03-05T17:55:54.914905",
     "exception": false,
     "start_time": "2023-03-05T17:55:54.905137",
     "status": "completed"
    },
    "tags": []
   },
   "source": [
    "**The average time to cancellation with and without driver, by the hour.**"
   ]
  },
  {
   "cell_type": "code",
   "execution_count": 18,
   "id": "a5c55134",
   "metadata": {
    "execution": {
     "iopub.execute_input": "2023-03-05T17:55:54.937697Z",
     "iopub.status.busy": "2023-03-05T17:55:54.937262Z",
     "iopub.status.idle": "2023-03-05T17:55:54.949525Z",
     "shell.execute_reply": "2023-03-05T17:55:54.948563Z"
    },
    "papermill": {
     "duration": 0.026549,
     "end_time": "2023-03-05T17:55:54.951965",
     "exception": false,
     "start_time": "2023-03-05T17:55:54.925416",
     "status": "completed"
    },
    "tags": []
   },
   "outputs": [
    {
     "data": {
      "text/plain": [
       "count    7307.000000\n",
       "mean      157.892021\n",
       "std       213.366963\n",
       "min         3.000000\n",
       "25%        45.000000\n",
       "50%        98.000000\n",
       "75%       187.500000\n",
       "max      4303.000000\n",
       "Name: cancellations_time_in_seconds, dtype: float64"
      ]
     },
     "execution_count": 18,
     "metadata": {},
     "output_type": "execute_result"
    }
   ],
   "source": [
    "data.cancellations_time_in_seconds.describe()"
   ]
  },
  {
   "cell_type": "code",
   "execution_count": 19,
   "id": "2bc37c0f",
   "metadata": {
    "execution": {
     "iopub.execute_input": "2023-03-05T17:55:54.974314Z",
     "iopub.status.busy": "2023-03-05T17:55:54.973827Z",
     "iopub.status.idle": "2023-03-05T17:55:54.980751Z",
     "shell.execute_reply": "2023-03-05T17:55:54.979524Z"
    },
    "papermill": {
     "duration": 0.020921,
     "end_time": "2023-03-05T17:55:54.983149",
     "exception": false,
     "start_time": "2023-03-05T17:55:54.962228",
     "status": "completed"
    },
    "tags": []
   },
   "outputs": [
    {
     "data": {
      "text/plain": [
       "401.25"
      ]
     },
     "execution_count": 19,
     "metadata": {},
     "output_type": "execute_result"
    }
   ],
   "source": [
    "#Since the mean significantly greater than median the feature 'cancellations_time_in_seconds'\n",
    "#has some outliers on the right side. \n",
    "\n",
    "# lets calculate the upper bound\n",
    "\n",
    "upper_bound = 187.5 + (187.5 - 45) * 1.5\n",
    "\n",
    "upper_bound"
   ]
  },
  {
   "cell_type": "code",
   "execution_count": 20,
   "id": "2d0fa1d2",
   "metadata": {
    "execution": {
     "iopub.execute_input": "2023-03-05T17:55:55.005836Z",
     "iopub.status.busy": "2023-03-05T17:55:55.005101Z",
     "iopub.status.idle": "2023-03-05T17:55:55.018624Z",
     "shell.execute_reply": "2023-03-05T17:55:55.017309Z"
    },
    "papermill": {
     "duration": 0.027537,
     "end_time": "2023-03-05T17:55:55.020495",
     "exception": false,
     "start_time": "2023-03-05T17:55:54.992958",
     "status": "completed"
    },
    "tags": []
   },
   "outputs": [
    {
     "data": {
      "text/plain": [
       "count    6715.000000\n",
       "mean      109.067312\n",
       "std        84.834514\n",
       "min         3.000000\n",
       "25%        41.000000\n",
       "50%        88.000000\n",
       "75%       161.000000\n",
       "max       401.000000\n",
       "Name: cancellations_time_in_seconds, dtype: float64"
      ]
     },
     "execution_count": 20,
     "metadata": {},
     "output_type": "execute_result"
    }
   ],
   "source": [
    "data[data.cancellations_time_in_seconds <= upper_bound].cancellations_time_in_seconds.describe()"
   ]
  },
  {
   "cell_type": "code",
   "execution_count": 21,
   "id": "997609f0",
   "metadata": {
    "execution": {
     "iopub.execute_input": "2023-03-05T17:55:55.042226Z",
     "iopub.status.busy": "2023-03-05T17:55:55.041743Z",
     "iopub.status.idle": "2023-03-05T17:56:00.209963Z",
     "shell.execute_reply": "2023-03-05T17:56:00.208437Z"
    },
    "papermill": {
     "duration": 5.182588,
     "end_time": "2023-03-05T17:56:00.213041",
     "exception": false,
     "start_time": "2023-03-05T17:55:55.030453",
     "status": "completed"
    },
    "tags": []
   },
   "outputs": [
    {
     "data": {
      "text/plain": [
       "Text(0.5, 1.0, 'Count of durations time perionds before cancelation separated by status of driver assigned or not')"
      ]
     },
     "execution_count": 21,
     "metadata": {},
     "output_type": "execute_result"
    },
    {
     "data": {
      "image/png": "[encoded data removed]",
      "text/plain": [
       "<Figure size 1600x700 with 1 Axes>"
      ]
     },
     "metadata": {},
     "output_type": "display_data"
    }
   ],
   "source": [
    "plt.figure(figsize=(16,7))\n",
    "\n",
    "sns.countplot(x='cancellations_time_in_seconds',data=data[data.cancellations_time_in_seconds <= upper_bound], \n",
    "              palette='rainbow', hue = 'is_driver_assigned_key', saturation = 2)\n",
    "\n",
    "plt.title(\"Count of durations time perionds before cancelation separated by status of driver assigned or not\")"
   ]
  },
  {
   "cell_type": "code",
   "execution_count": 22,
   "id": "cf4acb5f",
   "metadata": {
    "execution": {
     "iopub.execute_input": "2023-03-05T17:56:00.235966Z",
     "iopub.status.busy": "2023-03-05T17:56:00.235559Z",
     "iopub.status.idle": "2023-03-05T17:56:00.241201Z",
     "shell.execute_reply": "2023-03-05T17:56:00.239960Z"
    },
    "papermill": {
     "duration": 0.019739,
     "end_time": "2023-03-05T17:56:00.243478",
     "exception": false,
     "start_time": "2023-03-05T17:56:00.223739",
     "status": "completed"
    },
    "tags": []
   },
   "outputs": [],
   "source": [
    "# The graph above shows if driver is not assigned cancelation time is shorter. \n",
    "# That's logically make sense plus we know from the data before that when driver is not\n",
    "# assigned there's high chance system might be the cause of cancelation. So in cases without \n",
    "# driver there are more causes for cancelation. \n",
    "# When the driver is assigned then client has more patiance and determination to wait logner.\n"
   ]
  },
  {
   "cell_type": "markdown",
   "id": "7aa3b5db",
   "metadata": {
    "papermill": {
     "duration": 0.011318,
     "end_time": "2023-03-05T17:56:00.266121",
     "exception": false,
     "start_time": "2023-03-05T17:56:00.254803",
     "status": "completed"
    },
    "tags": []
   },
   "source": [
    "**Using the h3 and folium packages,  I calculated how many sizes 8 hexes contain 80% of all \n",
    "orders from the original data sets and visualised the hexes on the map below**"
   ]
  },
  {
   "cell_type": "code",
   "execution_count": 23,
   "id": "3caa252f",
   "metadata": {
    "execution": {
     "iopub.execute_input": "2023-03-05T17:56:00.290727Z",
     "iopub.status.busy": "2023-03-05T17:56:00.290273Z",
     "iopub.status.idle": "2023-03-05T17:56:10.800351Z",
     "shell.execute_reply": "2023-03-05T17:56:10.799016Z"
    },
    "papermill": {
     "duration": 10.525785,
     "end_time": "2023-03-05T17:56:10.803321",
     "exception": false,
     "start_time": "2023-03-05T17:56:00.277536",
     "status": "completed"
    },
    "tags": []
   },
   "outputs": [
    {
     "name": "stdout",
     "output_type": "stream",
     "text": [
      "Collecting h3\r\n",
      "  Downloading h3-3.7.6-cp37-cp37m-manylinux_2_17_x86_64.manylinux2014_x86_64.whl (1.1 MB)\r\n",
      "\u001b[2K     \u001b[90m━━━━━━━━━━━━━━━━━━━━━━━━━━━━━━━━━━━━━━━━\u001b[0m \u001b[32m1.1/1.1 MB\u001b[0m \u001b[31m2.6 MB/s\u001b[0m eta \u001b[36m0:00:00\u001b[0m\r\n",
      "\u001b[?25hInstalling collected packages: h3\r\n",
      "Successfully installed h3-3.7.6\r\n",
      "\u001b[33mWARNING: Running pip as the 'root' user can result in broken permissions and conflicting behaviour with the system package manager. It is recommended to use a virtual environment instead: https://pip.pypa.io/warnings/venv\u001b[0m\u001b[33m\r\n",
      "\u001b[0m"
     ]
    }
   ],
   "source": [
    "!pip install h3"
   ]
  },
  {
   "cell_type": "code",
   "execution_count": 24,
   "id": "c89fdb7d",
   "metadata": {
    "execution": {
     "iopub.execute_input": "2023-03-05T17:56:10.828213Z",
     "iopub.status.busy": "2023-03-05T17:56:10.827759Z",
     "iopub.status.idle": "2023-03-05T17:56:10.844227Z",
     "shell.execute_reply": "2023-03-05T17:56:10.843129Z"
    },
    "papermill": {
     "duration": 0.032084,
     "end_time": "2023-03-05T17:56:10.847116",
     "exception": false,
     "start_time": "2023-03-05T17:56:10.815032",
     "status": "completed"
    },
    "tags": []
   },
   "outputs": [],
   "source": [
    "import h3"
   ]
  },
  {
   "cell_type": "code",
   "execution_count": 25,
   "id": "902f771f",
   "metadata": {
    "execution": {
     "iopub.execute_input": "2023-03-05T17:56:10.872513Z",
     "iopub.status.busy": "2023-03-05T17:56:10.872131Z",
     "iopub.status.idle": "2023-03-05T17:56:11.116552Z",
     "shell.execute_reply": "2023-03-05T17:56:11.115000Z"
    },
    "papermill": {
     "duration": 0.260043,
     "end_time": "2023-03-05T17:56:11.119081",
     "exception": false,
     "start_time": "2023-03-05T17:56:10.859038",
     "status": "completed"
    },
    "tags": []
   },
   "outputs": [],
   "source": [
    "data['hex_ids'] = data[['origin_longitude', \n",
    "                        'origin_latitude']].apply(lambda row: \n",
    "                                                  h3.geo_to_h3(row.origin_latitude, \n",
    "                                                               row.origin_longitude, 8), axis = 1)\n"
   ]
  },
  {
   "cell_type": "code",
   "execution_count": 26,
   "id": "23329f68",
   "metadata": {
    "execution": {
     "iopub.execute_input": "2023-03-05T17:56:11.144534Z",
     "iopub.status.busy": "2023-03-05T17:56:11.144118Z",
     "iopub.status.idle": "2023-03-05T17:56:11.157401Z",
     "shell.execute_reply": "2023-03-05T17:56:11.156032Z"
    },
    "papermill": {
     "duration": 0.028865,
     "end_time": "2023-03-05T17:56:11.159986",
     "exception": false,
     "start_time": "2023-03-05T17:56:11.131121",
     "status": "completed"
    },
    "tags": []
   },
   "outputs": [],
   "source": [
    "data_h_ids = data.groupby('hex_ids', as_index=False).size()\n",
    "data_h_ids.quantile(0.2)\n",
    "data_h_ids = data_h_ids[data_h_ids['size'] > 3.6]"
   ]
  },
  {
   "cell_type": "code",
   "execution_count": 27,
   "id": "5d56c12b",
   "metadata": {
    "execution": {
     "iopub.execute_input": "2023-03-05T17:56:11.185383Z",
     "iopub.status.busy": "2023-03-05T17:56:11.184155Z",
     "iopub.status.idle": "2023-03-05T17:56:11.415468Z",
     "shell.execute_reply": "2023-03-05T17:56:11.414288Z"
    },
    "papermill": {
     "duration": 0.246919,
     "end_time": "2023-03-05T17:56:11.418323",
     "exception": false,
     "start_time": "2023-03-05T17:56:11.171404",
     "status": "completed"
    },
    "tags": []
   },
   "outputs": [],
   "source": [
    "import folium\n",
    "from geojson import Feature, Point, FeatureCollection\n",
    "import json\n",
    "\n",
    "def hexagons_dataframe_to_geojson(df_hex, file_output = None, column_name = \"value\"):\n",
    "    \"\"\"\n",
    "    Produce the GeoJSON for a dataframe, constructing the geometry from the \"hex_ids\" column\n",
    "    and with a property matching the one in column_name\n",
    "    \"\"\"    \n",
    "    list_features = []\n",
    "    \n",
    "    for i,row in df_hex.iterrows():\n",
    "        try:\n",
    "            geometry_for_row = { \"type\" : \"Polygon\", \"coordinates\": [h3.h3_to_geo_boundary(h=row[\"hex_ids\"],geo_json=True)]}\n",
    "            feature = Feature(geometry = geometry_for_row , id=row[\"hex_ids\"], properties = {column_name : row[column_name]})\n",
    "            list_features.append(feature)\n",
    "        except:\n",
    "            print(\"An exception occurred for hex \" + row[\"hex_ids\"]) \n",
    "\n",
    "    feat_collection = FeatureCollection(list_features)\n",
    "    geojson_result = json.dumps(feat_collection)\n",
    "    return geojson_result\n",
    "\n",
    "def get_color(custom_cm, val, vmin, vmax):\n",
    "    return matplotlib.colors.to_hex(custom_cm((val-vmin)/(vmax-vmin)))\n",
    "\n",
    "def choropleth_map(df_aggreg, column_name = \"value\", border_color = 'black', fill_opacity = 0.7, color_map_name = \"Blues\", initial_map = None):\n",
    "    \"\"\"\n",
    "    Creates choropleth maps given the aggregated data. initial_map can be an existing map to draw on top of.\n",
    "    \"\"\"    \n",
    "    #colormap\n",
    "    min_value = df_aggreg[column_name].min()\n",
    "    max_value = df_aggreg[column_name].max()\n",
    "    mean_value = df_aggreg[column_name].mean()\n",
    "    print(f\"Colour column min value {min_value}, max value {max_value}, mean value {mean_value}\")\n",
    "    print(f\"Hexagon cell count: {df_aggreg['hex_ids'].nunique()}\")\n",
    "    \n",
    "    # the name of the layer just needs to be unique, put something silly there for now:\n",
    "    name_layer = \"Choropleth \" + str(df_aggreg)\n",
    "    \n",
    "    if initial_map is None:\n",
    "        initial_map = folium.Map(location= [51.5, -1], zoom_start=10.5, tiles=\"cartodbpositron\")\n",
    "\n",
    "    #create geojson data from dataframe\n",
    "    geojson_data = hexagons_dataframe_to_geojson(df_hex = df_aggreg, column_name = column_name)\n",
    "\n",
    "    # color_map_name 'Blues' for now, many more at https://matplotlib.org/stable/tutorials/colors/colormaps.html to choose from!\n",
    "    custom_cm = matplotlib.cm.get_cmap(color_map_name)\n",
    "\n",
    "    folium.GeoJson(\n",
    "        geojson_data,\n",
    "        style_function=lambda feature: {\n",
    "            'fillColor': get_color(custom_cm, feature['properties'][column_name], vmin=min_value, vmax=max_value),\n",
    "            'color': border_color,\n",
    "            'weight': 1,\n",
    "            'fillOpacity': fill_opacity \n",
    "        }, \n",
    "        name = name_layer\n",
    "    ).add_to(initial_map)\n",
    "\n",
    "    return initial_map"
   ]
  },
  {
   "cell_type": "code",
   "execution_count": 28,
   "id": "e60c162f",
   "metadata": {
    "execution": {
     "iopub.execute_input": "2023-03-05T17:56:11.444602Z",
     "iopub.status.busy": "2023-03-05T17:56:11.443550Z",
     "iopub.status.idle": "2023-03-05T17:56:11.515448Z",
     "shell.execute_reply": "2023-03-05T17:56:11.514129Z"
    },
    "papermill": {
     "duration": 0.08823,
     "end_time": "2023-03-05T17:56:11.518329",
     "exception": false,
     "start_time": "2023-03-05T17:56:11.430099",
     "status": "completed"
    },
    "tags": []
   },
   "outputs": [
    {
     "name": "stdout",
     "output_type": "stream",
     "text": [
      "Colour column min value 4, max value 1497, mean value 92.70434782608696\n",
      "Hexagon cell count: 115\n"
     ]
    },
    {
     "data": {
      "text/html": [
       "<div style=\"width:100%;\"><div style=\"position:relative;width:100%;height:0;padding-bottom:60%;\"><iframe src=\"data:text/html;charset=utf-8;base64,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\" style=\"position:absolute;width:100%;height:100%;left:0;top:0;border:none !important;\" allowfullscreen webkitallowfullscreen mozallowfullscreen></iframe></div></div>"
      ],
      "text/plain": [
       "<folium.folium.Map at 0x7f03e7e3a690>"
      ]
     },
     "execution_count": 28,
     "metadata": {},
     "output_type": "execute_result"
    }
   ],
   "source": [
    "hexmap = choropleth_map(df_aggreg = data_h_ids, color_map_name = \"Blues\", column_name = \"size\")\n",
    "hexmap"
   ]
  }
 ],
 "metadata": {
  "kernelspec": {
   "display_name": "Python 3",
   "language": "python",
   "name": "python3"
  },
  "language_info": {
   "codemirror_mode": {
    "name": "ipython",
    "version": 3
   },
   "file_extension": ".py",
   "mimetype": "text/x-python",
   "name": "python",
   "nbconvert_exporter": "python",
   "pygments_lexer": "ipython3",
   "version": "3.7.12"
  },
  "papermill": {
   "default_parameters": {},
   "duration": 40.377968,
   "end_time": "2023-03-05T17:56:12.457141",
   "environment_variables": {},
   "exception": null,
   "input_path": "__notebook__.ipynb",
   "output_path": "__notebook__.ipynb",
   "parameters": {},
   "start_time": "2023-03-05T17:55:32.079173",
   "version": "2.4.0"
  }
 },
 "nbformat": 4,
 "nbformat_minor": 5
}
